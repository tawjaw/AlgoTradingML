{
 "cells": [
  {
   "cell_type": "markdown",
   "metadata": {},
   "source": [
    "# Comparison of Different Algorithmic Trading Strategies on Tesla Stock Price\n",
    "\n",
    "### Tawfiq Jawhar\n",
    "<b>Machine Learning (COMP-652 and ECSE-608)<br>\n",
    "Fall 2018<br>\n",
    "McGill University <br><br>\n",
    "Instructors:<br>\n",
    "Audrey Durand<br>\n",
    "Riashat Islam <br></b>\n",
    "\n",
    "---"
   ]
  },
  {
   "cell_type": "markdown",
   "metadata": {},
   "source": [
    "## Outline\n",
    "We saw before than SMA and SE-MA strategies did not do well on the TSLA price. Which was kind of expected from the beginning as they are both simple strategies that cannot do well with high volatility. But it was definetly fun optimizing using Bayesian Optimization. \n",
    "\n",
    "We also saw that GMM model as a risk manager did improve on the strategies, but was not able to predict the fast sudden decrease in the price at 2017-07. \n",
    "\n",
    "In this approach we will try using multiple classifiers to predict the movement of the price (Up or Down). We will use Support Vector Machine, Random Forest and K Nearest Neighbour.\n",
    "\n",
    "The strategy will be as follows:\n",
    "```\n",
    "Fit the classifiers on the training set\n",
    "At every trading day Predict the movement of the price using all 3 classifiers\n",
    "IF NOT Invested AND 2 or more classifiers predict Up THEN\n",
    "    BUY\n",
    "IF Invested AND 2 or more classifiers predict Down THEN\n",
    "    SELL\n",
    "```\n",
    "\n",
    "## Training Data Set\n",
    "We already extracted data before so we will start by loading the data and preparing the training data set. \n",
    "Although our data has 30 days return as input for every day, we will only use 5 days return as input.  "
   ]
  },
  {
   "cell_type": "code",
   "execution_count": 1,
   "metadata": {},
   "outputs": [
    {
     "data": {
      "application/javascript": [
       "IPython.OutputArea.auto_scroll_threshold = 9999;\n",
       "//to show the full output without scrolling\n"
      ],
      "text/plain": [
       "<IPython.core.display.Javascript object>"
      ]
     },
     "metadata": {},
     "output_type": "display_data"
    }
   ],
   "source": [
    "%%javascript\n",
    "IPython.OutputArea.auto_scroll_threshold = 9999;\n",
    "//to show the full output without scrolling"
   ]
  },
  {
   "cell_type": "code",
   "execution_count": 2,
   "metadata": {},
   "outputs": [],
   "source": [
    "## to use zipline magic commands (which is not used in this notebook)\n",
    "%load_ext zipline\n",
    "## inline plot\n",
    "%matplotlib inline\n",
    "\n",
    "##import libraries\n",
    "import zipline\n",
    "import pandas as pd\n",
    "import matplotlib.pyplot as plt\n",
    "from matplotlib import style\n",
    "import seaborn as sns\n",
    "plt.style.use('seaborn-darkgrid')\n",
    "\n",
    "import pickle\n",
    "import numpy as np\n",
    "from zipline.api import (\n",
    "    order_target_percent, \n",
    "    record, \n",
    "    symbol, \n",
    "    schedule_function, \n",
    "    sid,\n",
    "    date_rules,\n",
    "    time_rules,\n",
    "    get_open_orders,\n",
    "    order_percent,\n",
    "    order,\n",
    "    set_benchmark)\n",
    "from zipline.finance import commission, slippage\n",
    "from zipline import run_algorithm\n",
    "\n",
    "## pyfolio was not installed in the docker image (needs updating)\n",
    "## if you want to use pyfolio to analyze the portfolio\n",
    "try:\n",
    "    import pyfolio as pf\n",
    "except:    \n",
    "    !pip install pyfolio\n",
    "    import pyfolio as pf\n",
    "\n",
    "\n",
    "from sklearn.model_selection import cross_val_score, GridSearchCV\n",
    "from sklearn import svm, neighbors\n",
    "from sklearn.metrics import confusion_matrix\n",
    "from sklearn.ensemble import RandomForestClassifier\n"
   ]
  },
  {
   "cell_type": "code",
   "execution_count": 3,
   "metadata": {},
   "outputs": [],
   "source": [
    "##load data\n",
    "df = pd.read_pickle('data/TSLAtraining.pickle')\n"
   ]
  },
  {
   "cell_type": "code",
   "execution_count": 4,
   "metadata": {},
   "outputs": [],
   "source": [
    "X = df['X_return'].values\n",
    "X = np.array([np.array(x) for x in X])[:,-30:]\n",
    "y = df['label'].values"
   ]
  },
  {
   "cell_type": "code",
   "execution_count": 5,
   "metadata": {},
   "outputs": [
    {
     "data": {
      "text/plain": [
       "((499, 30), (499,))"
      ]
     },
     "execution_count": 5,
     "metadata": {},
     "output_type": "execute_result"
    }
   ],
   "source": [
    "X.shape, y.shape"
   ]
  },
  {
   "cell_type": "code",
   "execution_count": 6,
   "metadata": {},
   "outputs": [
    {
     "data": {
      "text/plain": [
       "(249, 250)"
      ]
     },
     "execution_count": 6,
     "metadata": {},
     "output_type": "execute_result"
    }
   ],
   "source": [
    "down = y[[True if i == 0 else False for i in y]]\n",
    "up = y[[True if i == 1 else False for i in y]]\n",
    "len(down), len(up)"
   ]
  },
  {
   "cell_type": "markdown",
   "metadata": {},
   "source": [
    "Our classes are well balanced. So we don't have a problem there. However, that actually show us how much the TSLA price is volatile. "
   ]
  },
  {
   "cell_type": "markdown",
   "metadata": {},
   "source": [
    "## Support Vector Machine \n",
    "We will use RBF kernel with our SVC model. We will test for different C and gamma values using k fold cross validiation with 5 folds. \n",
    "\n",
    "I did some trial and error on different ranges for C and gamma and found it's best to bound the parameters between 0.5 and 2. "
   ]
  },
  {
   "cell_type": "code",
   "execution_count": 7,
   "metadata": {},
   "outputs": [
    {
     "data": {
      "text/plain": [
       "GridSearchCV(cv=5, error_score='raise-deprecating',\n",
       "       estimator=SVC(C=1.0, cache_size=200, class_weight=None, coef0=0.0,\n",
       "  decision_function_shape='ovr', degree=3, gamma='auto_deprecated',\n",
       "  kernel='rbf', max_iter=-1, probability=False, random_state=None,\n",
       "  shrinking=True, tol=0.001, verbose=False),\n",
       "       fit_params=None, iid='warn', n_jobs=None,\n",
       "       param_grid={'gamma': array([0.5    , 0.60714, 0.71429, 0.82143, 0.92857, 1.03571, 1.14286,\n",
       "       1.25   , 1.35714, 1.46429, 1.57143, 1.67857, 1.78571, 1.89286,\n",
       "       2.     ]), 'kernel': ('rbf',), 'C': array([0.5    , 0.60714, 0.71429, 0.82143, 0.92857, 1.03571, 1.14286,\n",
       "       1.25   , 1.35714, 1.46429, 1.57143, 1.67857, 1.78571, 1.89286,\n",
       "       2.     ])},\n",
       "       pre_dispatch='2*n_jobs', refit=True, return_train_score=True,\n",
       "       scoring=None, verbose=0)"
      ]
     },
     "execution_count": 7,
     "metadata": {},
     "output_type": "execute_result"
    }
   ],
   "source": [
    "C_s = np.linspace(0.5, 2, 15)\n",
    "gamma_s = np.linspace(0.5, 2, 15)\n",
    "\n",
    "parameters = {'kernel':('rbf',), 'C':C_s, 'gamma':gamma_s}\n",
    "svc = svm.SVC()\n",
    "clf = GridSearchCV(svc, parameters, cv=5,return_train_score=True)\n",
    "clf.fit(X,y)"
   ]
  },
  {
   "cell_type": "code",
   "execution_count": 8,
   "metadata": {},
   "outputs": [
    {
     "data": {
      "text/plain": [
       "SVC(C=1.25, cache_size=200, class_weight=None, coef0=0.0,\n",
       "  decision_function_shape='ovr', degree=3, gamma=1.5714285714285714,\n",
       "  kernel='rbf', max_iter=-1, probability=False, random_state=None,\n",
       "  shrinking=True, tol=0.001, verbose=False)"
      ]
     },
     "execution_count": 8,
     "metadata": {},
     "output_type": "execute_result"
    }
   ],
   "source": [
    "clf.best_estimator_"
   ]
  },
  {
   "cell_type": "code",
   "execution_count": 9,
   "metadata": {},
   "outputs": [],
   "source": [
    "score = pd.DataFrame(clf.cv_results_)"
   ]
  },
  {
   "cell_type": "code",
   "execution_count": 10,
   "metadata": {},
   "outputs": [
    {
     "data": {
      "image/png": "[encoded data removed]",
      "text/plain": [
       "<Figure size 720x360 with 1 Axes>"
      ]
     },
     "metadata": {
      "needs_background": "light"
     },
     "output_type": "display_data"
    },
    {
     "data": {
      "image/png": "[encoded data removed]",
      "text/plain": [
       "<Figure size 720x360 with 1 Axes>"
      ]
     },
     "metadata": {
      "needs_background": "light"
     },
     "output_type": "display_data"
    }
   ],
   "source": [
    "#plt.figure(figsize=(20,30))\n",
    "for i in parameters.keys():\n",
    "    #print(i, len(parameters[i]), parameters[i])\n",
    "    score[i] = score.params.apply(lambda x: x[i])\n",
    "l =['mean_test_score'] + list(parameters.keys())\n",
    "for i in list(parameters.keys()):\n",
    "    if i == 'kernel':\n",
    "        continue\n",
    "    plt.figure(figsize=(10,5))\n",
    "    sns.swarmplot(data = score[l],x=i, y = 'mean_test_score',palette=sns.color_palette())\n",
    "    locs, labels = plt.xticks()\n",
    "    plt.xticks(locs, [round(float(x.get_text()),2) for x in labels],fontsize=12)\n",
    "    plt.show()\n"
   ]
  },
  {
   "cell_type": "code",
   "execution_count": 11,
   "metadata": {},
   "outputs": [
    {
     "name": "stdout",
     "output_type": "stream",
     "text": [
      "The best parameters are at C=1.25 and gamma=1.57.\n"
     ]
    }
   ],
   "source": [
    "print(\"The best parameters are at C=\"+str(round(clf.best_estimator_.C,2))+\" and gamma=\" +\n",
    "      str(round(clf.best_estimator_.gamma,2))+\".\")"
   ]
  },
  {
   "cell_type": "markdown",
   "metadata": {},
   "source": [
    "We will fit the SVC model on all the training data and pickle it to be used later on in our strategy. "
   ]
  },
  {
   "cell_type": "code",
   "execution_count": 12,
   "metadata": {},
   "outputs": [
    {
     "data": {
      "text/plain": [
       "SVC(C=1.25, cache_size=200, class_weight=None, coef0=0.0,\n",
       "  decision_function_shape='ovr', degree=3, gamma=1.5714285714285714,\n",
       "  kernel='rbf', max_iter=-1, probability=False, random_state=None,\n",
       "  shrinking=True, tol=0.001, verbose=False)"
      ]
     },
     "execution_count": 12,
     "metadata": {},
     "output_type": "execute_result"
    }
   ],
   "source": [
    "svc = svm.SVC()\n",
    "svc.C = clf.best_estimator_.C\n",
    "svc.gamma = clf.best_estimator_.gamma\n",
    "svc.fit(X,y)"
   ]
  },
  {
   "cell_type": "code",
   "execution_count": 13,
   "metadata": {},
   "outputs": [],
   "source": [
    "pickle.dump(svc,open('models/svc.pickle','wb'))"
   ]
  },
  {
   "cell_type": "markdown",
   "metadata": {},
   "source": [
    "## K-Nearest Neighbour\n",
    "We will apply the same cross validation method to find a good K for our classifier model. "
   ]
  },
  {
   "cell_type": "code",
   "execution_count": 14,
   "metadata": {},
   "outputs": [
    {
     "data": {
      "text/plain": [
       "GridSearchCV(cv=5, error_score='raise-deprecating',\n",
       "       estimator=KNeighborsClassifier(algorithm='auto', leaf_size=30, metric='minkowski',\n",
       "           metric_params=None, n_jobs=None, n_neighbors=5, p=2,\n",
       "           weights='uniform'),\n",
       "       fit_params=None, iid='warn', n_jobs=None,\n",
       "       param_grid={'n_neighbors': [2, 3, 4, 5, 6, 7, 8, 9, 10, 11, 12, 13, 14, 15, 16, 17, 18, 19, 20]},\n",
       "       pre_dispatch='2*n_jobs', refit=True, return_train_score=True,\n",
       "       scoring=None, verbose=0)"
      ]
     },
     "execution_count": 14,
     "metadata": {},
     "output_type": "execute_result"
    }
   ],
   "source": [
    "k_s = [x for x in range(2,21)]\n",
    "\n",
    "parameters = {'n_neighbors':k_s}\n",
    "knn = neighbors.KNeighborsClassifier()\n",
    "clf = GridSearchCV(knn, parameters, cv=5,return_train_score=True)\n",
    "clf.fit(X,y)"
   ]
  },
  {
   "cell_type": "code",
   "execution_count": 15,
   "metadata": {},
   "outputs": [
    {
     "data": {
      "text/plain": [
       "KNeighborsClassifier(algorithm='auto', leaf_size=30, metric='minkowski',\n",
       "           metric_params=None, n_jobs=None, n_neighbors=4, p=2,\n",
       "           weights='uniform')"
      ]
     },
     "execution_count": 15,
     "metadata": {},
     "output_type": "execute_result"
    }
   ],
   "source": [
    "clf.best_estimator_"
   ]
  },
  {
   "cell_type": "code",
   "execution_count": 16,
   "metadata": {},
   "outputs": [
    {
     "data": {
      "image/png": "[encoded data removed]",
      "text/plain": [
       "<Figure size 720x360 with 1 Axes>"
      ]
     },
     "metadata": {
      "needs_background": "light"
     },
     "output_type": "display_data"
    }
   ],
   "source": [
    "score = pd.DataFrame(clf.cv_results_)\n",
    "for i in parameters.keys():\n",
    "    #print(i, len(parameters[i]), parameters[i])\n",
    "    score[i] = score.params.apply(lambda x: x[i])\n",
    "l =['mean_test_score'] + list(parameters.keys())\n",
    "for i in list(parameters.keys()):\n",
    "    plt.figure(figsize=(10,5))\n",
    "    plt.scatter(y = score['mean_test_score'],x=score['param_n_neighbors'],color='C0')\n",
    "    locs, labels = plt.xticks()\n",
    "    plt.xticks(score['param_n_neighbors'], score['param_n_neighbors'],fontsize=12)\n",
    "    plt.xlabel(\"Number of Neighbours\")\n",
    "    plt.ylabel('Mean Test Score')\n",
    "    plt.show()"
   ]
  },
  {
   "cell_type": "code",
   "execution_count": 17,
   "metadata": {},
   "outputs": [
    {
     "name": "stdout",
     "output_type": "stream",
     "text": [
      "The best parameters are at K=4.\n"
     ]
    }
   ],
   "source": [
    "print(\"The best parameters are at K=\"+str(clf.best_estimator_.n_neighbors)+\".\")"
   ]
  },
  {
   "cell_type": "markdown",
   "metadata": {},
   "source": [
    "We will fit the KNN model on all the training data and pickle it to be used later on in our strategy. "
   ]
  },
  {
   "cell_type": "code",
   "execution_count": 18,
   "metadata": {},
   "outputs": [
    {
     "data": {
      "text/plain": [
       "KNeighborsClassifier(algorithm='auto', leaf_size=30, metric='minkowski',\n",
       "           metric_params=None, n_jobs=None, n_neighbors=4, p=2,\n",
       "           weights='uniform')"
      ]
     },
     "execution_count": 18,
     "metadata": {},
     "output_type": "execute_result"
    }
   ],
   "source": [
    "knn = neighbors.KNeighborsClassifier()\n",
    "knn.n_neighbors = clf.best_estimator_.n_neighbors\n",
    "knn.fit(X,y)"
   ]
  },
  {
   "cell_type": "code",
   "execution_count": 19,
   "metadata": {},
   "outputs": [],
   "source": [
    "pickle.dump(svc,open('models/knn.pickle','wb'))"
   ]
  },
  {
   "cell_type": "markdown",
   "metadata": {},
   "source": [
    "## Random Forest Classifier\n",
    "We will apply the same cross validation method to find a good number of estimators for our random forst model."
   ]
  },
  {
   "cell_type": "code",
   "execution_count": 35,
   "metadata": {},
   "outputs": [
    {
     "name": "stderr",
     "output_type": "stream",
     "text": [
      "/usr/local/lib/python3.5/site-packages/sklearn/model_selection/_search.py:841: DeprecationWarning: The default of the `iid` parameter will change from True to False in version 0.22 and will be removed in 0.24. This will change numeric results when test-set sizes are unequal.\n",
      "  DeprecationWarning)\n"
     ]
    },
    {
     "data": {
      "text/plain": [
       "GridSearchCV(cv=5, error_score='raise-deprecating',\n",
       "       estimator=RandomForestClassifier(bootstrap=True, class_weight=None, criterion='gini',\n",
       "            max_depth=None, max_features='auto', max_leaf_nodes=None,\n",
       "            min_impurity_decrease=0.0, min_impurity_split=None,\n",
       "            min_samples_leaf=1, min_samples_split=2,\n",
       "            min_weight_fraction_leaf=0.0, n_estimators='warn', n_jobs=None,\n",
       "            oob_score=False, random_state=None, verbose=0,\n",
       "            warm_start=False),\n",
       "       fit_params=None, iid='warn', n_jobs=None,\n",
       "       param_grid={'n_estimators': [1, 2, 3, 4, 5, 6, 7, 8, 9, 10]},\n",
       "       pre_dispatch='2*n_jobs', refit=True, return_train_score=True,\n",
       "       scoring=None, verbose=0)"
      ]
     },
     "execution_count": 35,
     "metadata": {},
     "output_type": "execute_result"
    }
   ],
   "source": [
    "ne_s = [x for x in range(1,11,1)]\n",
    "\n",
    "parameters = {'n_estimators':ne_s}\n",
    "rf = RandomForestClassifier()\n",
    "clf = GridSearchCV(rf, parameters, cv=5,return_train_score=True)\n",
    "clf.fit(X,y)"
   ]
  },
  {
   "cell_type": "code",
   "execution_count": 36,
   "metadata": {},
   "outputs": [
    {
     "data": {
      "text/plain": [
       "RandomForestClassifier(bootstrap=True, class_weight=None, criterion='gini',\n",
       "            max_depth=None, max_features='auto', max_leaf_nodes=None,\n",
       "            min_impurity_decrease=0.0, min_impurity_split=None,\n",
       "            min_samples_leaf=1, min_samples_split=2,\n",
       "            min_weight_fraction_leaf=0.0, n_estimators=2, n_jobs=None,\n",
       "            oob_score=False, random_state=None, verbose=0,\n",
       "            warm_start=False)"
      ]
     },
     "execution_count": 36,
     "metadata": {},
     "output_type": "execute_result"
    }
   ],
   "source": [
    "clf.best_estimator_"
   ]
  },
  {
   "cell_type": "code",
   "execution_count": 37,
   "metadata": {},
   "outputs": [
    {
     "data": {
      "image/png": "[encoded data removed]",
      "text/plain": [
       "<Figure size 720x360 with 1 Axes>"
      ]
     },
     "metadata": {
      "needs_background": "light"
     },
     "output_type": "display_data"
    }
   ],
   "source": [
    "score = pd.DataFrame(clf.cv_results_)\n",
    "for i in parameters.keys():\n",
    "    #print(i, len(parameters[i]), parameters[i])\n",
    "    score[i] = score.params.apply(lambda x: x[i])\n",
    "l =['mean_test_score'] + list(parameters.keys())\n",
    "for i in list(parameters.keys()):\n",
    "    plt.figure(figsize=(10,5))\n",
    "    plt.scatter(y = score['mean_test_score'],x=score['param_n_estimators'],color='C0')\n",
    "    locs, labels = plt.xticks()\n",
    "    plt.xticks(score['param_n_estimators'], score['param_n_estimators'],fontsize=12)\n",
    "    plt.xlabel(\"Number of Estimators\")\n",
    "    plt.ylabel('Mean Test Score')\n",
    "    plt.show()"
   ]
  },
  {
   "cell_type": "code",
   "execution_count": 38,
   "metadata": {},
   "outputs": [
    {
     "name": "stdout",
     "output_type": "stream",
     "text": [
      "The best parameters are at n_estimator=2.\n"
     ]
    }
   ],
   "source": [
    "print(\"The best parameters are at n_estimator=\"+str(clf.best_estimator_.n_estimators)+\".\")"
   ]
  },
  {
   "cell_type": "markdown",
   "metadata": {},
   "source": [
    "We will fit the Random Forest model on all the training data and pickle it to be used later on in our strategy. "
   ]
  },
  {
   "cell_type": "code",
   "execution_count": 39,
   "metadata": {},
   "outputs": [
    {
     "data": {
      "text/plain": [
       "RandomForestClassifier(bootstrap=True, class_weight=None, criterion='gini',\n",
       "            max_depth=None, max_features='auto', max_leaf_nodes=None,\n",
       "            min_impurity_decrease=0.0, min_impurity_split=None,\n",
       "            min_samples_leaf=1, min_samples_split=2,\n",
       "            min_weight_fraction_leaf=0.0, n_estimators=2, n_jobs=None,\n",
       "            oob_score=False, random_state=None, verbose=0,\n",
       "            warm_start=False)"
      ]
     },
     "execution_count": 39,
     "metadata": {},
     "output_type": "execute_result"
    }
   ],
   "source": [
    "rf = RandomForestClassifier()\n",
    "rf.n_estimators = clf.best_estimator_.n_estimators\n",
    "rf.fit(X,y)"
   ]
  },
  {
   "cell_type": "code",
   "execution_count": 40,
   "metadata": {},
   "outputs": [],
   "source": [
    "pickle.dump(svc,open('models/rf.pickle','wb'))"
   ]
  },
  {
   "cell_type": "code",
   "execution_count": null,
   "metadata": {},
   "outputs": [],
   "source": [
    "##TODO understand random forest and tune parameters better"
   ]
  },
  {
   "cell_type": "markdown",
   "metadata": {},
   "source": [
    "## Conclusion\n",
    "In general the classifiers did not do so well! We had an average of 50% test score between the 3 classifiers.\n",
    "But maybe the strategy would do better than the previous strategies we have? Or will this project be a failure? "
   ]
  }
 ],
 "metadata": {
  "kernelspec": {
   "display_name": "Python 3",
   "language": "python",
   "name": "python3"
  },
  "language_info": {
   "codemirror_mode": {
    "name": "ipython",
    "version": 3
   },
   "file_extension": ".py",
   "mimetype": "text/x-python",
   "name": "python",
   "nbconvert_exporter": "python",
   "pygments_lexer": "ipython3",
   "version": "3.5.6"
  }
 },
 "nbformat": 4,
 "nbformat_minor": 2
}
